{
 "cells": [
  {
   "cell_type": "code",
   "execution_count": 6,
   "metadata": {
    "collapsed": false
   },
   "outputs": [],
   "source": [
    "# Os Termos Verdadeiros\n",
    "\n",
    "# and\n",
    "# or\n",
    "# not\n",
    "# !=\n",
    "# ==\n",
    "# >=\n",
    "# <=\n",
    "# True\n",
    "# False"
   ]
  },
  {
   "cell_type": "code",
   "execution_count": 5,
   "metadata": {
    "collapsed": false
   },
   "outputs": [
    {
     "name": "stdout",
     "output_type": "stream",
     "text": [
      "True\n",
      "False\n",
      "True\n",
      "True\n",
      "True\n",
      "False\n",
      "False\n",
      "True\n",
      "False\n",
      "False\n",
      "False\n",
      "False\n",
      "False\n",
      "True\n",
      "True\n",
      "False\n",
      "True\n",
      "True\n",
      "True\n",
      "False\n",
      "True\n",
      "False\n",
      "False\n",
      "True\n",
      "False\n",
      "True\n"
     ]
    }
   ],
   "source": [
    "#As Tabelas Verdadeiras\n",
    "\n",
    "print(not False)\n",
    "print(not True)\n",
    "\n",
    "print(True or False)\n",
    "print(True or True)\n",
    "print(False or True)\n",
    "print(False or False)\n",
    "\n",
    "print(True and False)\n",
    "print(True and True)\n",
    "print(False and True)\n",
    "print(False and False)\n",
    "\n",
    "print not (True or False)\n",
    "print not (True or True)\n",
    "print not (False or True)\n",
    "print not (False or False)\n",
    "\n",
    "print not (True and False)\n",
    "print not (True and True)\n",
    "print not (False and True)\n",
    "print not (False and False)\n",
    "\n",
    "\n",
    "print(1 != 0)\n",
    "print(1 != 1)\n",
    "print(0 != 1)\n",
    "print(0 != 0)\n",
    "\n",
    "print(1 == 0)\n",
    "print(1 == 1)\n",
    "print(0 == 1)\n",
    "print(0 == 0)\n"
   ]
  }
 ],
 "metadata": {
  "anaconda-cloud": {},
  "kernelspec": {
   "display_name": "Python 2",
   "language": "python",
   "name": "python2"
  },
  "language_info": {
   "codemirror_mode": {
    "name": "ipython",
    "version": 2
   },
   "file_extension": ".py",
   "mimetype": "text/x-python",
   "name": "python",
   "nbconvert_exporter": "python",
   "pygments_lexer": "ipython2",
   "version": "2.7.12"
  }
 },
 "nbformat": 4,
 "nbformat_minor": 1
}
