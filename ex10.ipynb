{
 "cells": [
  {
   "cell_type": "code",
   "execution_count": 1,
   "metadata": {
    "collapsed": false
   },
   "outputs": [
    {
     "name": "stdout",
     "output_type": "stream",
     "text": [
      "\tEu estou marcado.\n",
      "Estou divido\\ em uma linha.\n",
      "Eu \\ sou \\ um \\ gato.\n",
      "\n",
      "Eu vou fazer uma lista:\n",
      "\t* Comida de peixe\n",
      "\t* Peixes\n",
      "\t* Nepenta\n",
      "\t* Grama\n",
      "\n"
     ]
    }
   ],
   "source": [
    "gato_malhado = \"\\tEu estou marcado.\"\n",
    "gato_persa = \"Estou divido\\ em uma linha.\"\n",
    "gato_barra_invertida = \"Eu \\\\ sou \\\\ um \\\\ gato.\"\n",
    "\n",
    "gato_gordo = \"\"\"\n",
    "Eu vou fazer uma lista:\n",
    "\\t* Comida de peixe\n",
    "\\t* Peixes\n",
    "\\t* Nepenta\\n\\t* Grama\n",
    "\"\"\"\n",
    "print gato_malhado\n",
    "print gato_persa\n",
    "print gato_barra_invertida\n",
    "print gato_gordo"
   ]
  }
 ],
 "metadata": {
  "anaconda-cloud": {},
  "kernelspec": {
   "display_name": "Python 2",
   "language": "python",
   "name": "python2"
  },
  "language_info": {
   "codemirror_mode": {
    "name": "ipython",
    "version": 2
   },
   "file_extension": ".py",
   "mimetype": "text/x-python",
   "name": "python",
   "nbconvert_exporter": "python",
   "pygments_lexer": "ipython2",
   "version": "2.7.12"
  }
 },
 "nbformat": 4,
 "nbformat_minor": 1
}
