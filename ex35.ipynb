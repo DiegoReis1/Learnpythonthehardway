{
 "cells": [
  {
   "cell_type": "code",
   "execution_count": 2,
   "metadata": {
    "collapsed": false
   },
   "outputs": [
    {
     "name": "stdout",
     "output_type": "stream",
     "text": [
      "Você está em um quarto escuro.\n",
      "Há uma porta à sua direita e esquerda.\n",
      "Qual deles você toma?\n",
      "> 1\n",
      "Você tropeça em torno da sala, até morrer de fome. Bom trabalho\n"
     ]
    },
    {
     "ename": "SystemExit",
     "evalue": "0",
     "output_type": "error",
     "traceback": [
      "An exception has occurred, use %tb to see the full traceback.\n",
      "\u001b[0;31mSystemExit\u001b[0m\u001b[0;31m:\u001b[0m 0\n"
     ]
    },
    {
     "name": "stderr",
     "output_type": "stream",
     "text": [
      "/Users/diegoreis/anaconda/lib/python2.7/site-packages/IPython/core/interactiveshell.py:2889: UserWarning: To exit: use 'exit', 'quit', or Ctrl-D.\n",
      "  warn(\"To exit: use 'exit', 'quit', or Ctrl-D.\", stacklevel=1)\n"
     ]
    }
   ],
   "source": [
    "from sys import exit\n",
    "\n",
    "def sala_dourada():\n",
    "    print \"Essa sala é toda de ouro.  Quanto você pega?\"\n",
    "\n",
    "    escolha = raw_input(\"> \")\n",
    "    if \"0\" in escolha or \"1\" in escolhas:\n",
    "        Quanto = int(escolha)\n",
    "    else:\n",
    "        morreu(\"Man, aprenda a escrever um numero!\")\n",
    "\n",
    "    if how_much < 50:\n",
    "        print \"Boa, você não é ganancioso, você ganhou!\"\n",
    "        exit(0)\n",
    "    else:\n",
    "        morreu(\"Seu filho da puta gananciosos!\")\n",
    "        \n",
    "def sala_urso():\n",
    "    print \"Tem um urso aqui!\"\n",
    "    print \"O urso tem um monte de mel.\"\n",
    "    print \"O urso gordo está na frente de uma outra porta.\"\n",
    "    print \"Como você está indo para mover o urso?\"\n",
    "    urso_movido = False\n",
    "\n",
    "    while True:\n",
    "        escolha = raw_input(\"> \")\n",
    "\n",
    "        if escolha == \"Pegar o mel\":\n",
    "            morreu(\"O urso olha para você, em seguida, dá um tapa em seu rosto largo.\")\n",
    "        elif escolha == \"urso provocado\" and not urso_movido:\n",
    "            print \"O urso passou pela porta. Você pode passar por ela agora.\"\n",
    "            urso_movido = True\n",
    "        elif escolha == \"urso provocado\" and urso_movido:\n",
    "            morreu(\"O urso fica chateado e mastiga sua perna.\")\n",
    "        elif escolha == \"Abra a porta\" and urso_movido:\n",
    "            sala_dourada()\n",
    "        else:\n",
    "            print \"Nao tenho ideia do que isso quer dizer.\"\n",
    "            \n",
    "def sala_cthulhu():\n",
    "    print \"Aqui você vê o grande mal Cthulhu.\"\n",
    "    print \"Ele, que, qualquer que seja olha para você e você fica louco.\"\n",
    "    print \"Você fugir para salvar sua vida ou comer sua cabeça\"\n",
    "\n",
    "    escolha = raw_input(\"> \")\n",
    "\n",
    "    if \"pulga\" in escolha:\n",
    "        comeca()\n",
    "    elif \"cabeca\" in escolha:\n",
    "        morreu(\"Bem, isso era saboroso!\")\n",
    "    else:\n",
    "        sala_cthulhu()\n",
    "\n",
    "\n",
    "def morreu(porque):\n",
    "    print porque, \"Bom trabalho\"\n",
    "    exit(0)\n",
    "\n",
    "def comeca():\n",
    "    print \"Você está em um quarto escuro.\"\n",
    "    print \"Há uma porta à sua direita e esquerda.\"\n",
    "    print \"Qual deles você toma?\"\n",
    "\n",
    "    escolha = raw_input(\"> \")\n",
    "\n",
    "    if escolha == \"esquerda\":\n",
    "        sala_urso()\n",
    "    elif escolha == \"direita\":\n",
    "        sala_cthulhu()\n",
    "    else:\n",
    "        morreu(\"Você tropeça em torno da sala, até morrer de fome.\")\n",
    "\n",
    "\n",
    "comeca()\n",
    "\n",
    "# rode no terminal\n",
    "# python ex35.py"
   ]
  }
 ],
 "metadata": {
  "anaconda-cloud": {},
  "kernelspec": {
   "display_name": "Python 2",
   "language": "python",
   "name": "python2"
  },
  "language_info": {
   "codemirror_mode": {
    "name": "ipython",
    "version": 2
   },
   "file_extension": ".py",
   "mimetype": "text/x-python",
   "name": "python",
   "nbconvert_exporter": "python",
   "pygments_lexer": "ipython2",
   "version": "2.7.12"
  }
 },
 "nbformat": 4,
 "nbformat_minor": 1
}
