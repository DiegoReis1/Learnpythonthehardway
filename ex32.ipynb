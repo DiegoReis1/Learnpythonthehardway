{
 "cells": [
  {
   "cell_type": "code",
   "execution_count": 6,
   "metadata": {
    "collapsed": false
   },
   "outputs": [
    {
     "name": "stdout",
     "output_type": "stream",
     "text": [
      "Isso é uma conta 1\n",
      "Isso é uma conta 2\n",
      "Isso é uma conta 3\n",
      "Isso é uma conta 4\n",
      "Isso é uma conta 5\n",
      "Uma fruta do tipo: macas\n",
      "Uma fruta do tipo: laranjas\n",
      "Uma fruta do tipo: peras\n",
      "Uma fruta do tipo: damascos\n",
      "Eu tenho 1\n",
      "Eu tenho '1 centavo'\n",
      "Eu tenho 2\n",
      "Eu tenho '10 centavos'\n",
      "Eu tenho 3\n",
      "Eu tenho '25 centavos'\n",
      "Adicionando 0 na lista\n",
      "Adicionando 1 na lista\n",
      "Adicionando 2 na lista\n",
      "Adicionando 3 na lista\n",
      "Adicionando 4 na lista\n",
      "Adicionando 5 na lista\n",
      "Elemento foi: 0\n",
      "Elemento foi: 1\n",
      "Elemento foi: 2\n",
      "Elemento foi: 3\n",
      "Elemento foi: 4\n",
      "Elemento foi: 5\n"
     ]
    }
   ],
   "source": [
    "a_conta = [1, 2, 3, 4, 5]\n",
    "frutas = ['macas', 'laranjas', 'peras', 'damascos']\n",
    "cambio = [1, '1 centavo', 2, '10 centavos', 3, '25 centavos']\n",
    "\n",
    "# Neste primeiro tipo de for-loop por uma lista\n",
    "for numero in a_conta:\n",
    "    print \"Isso é uma conta %d\" % numero\n",
    "\n",
    "# A mesma coisa\n",
    "for fruta in frutas:\n",
    "    print \"Uma fruta do tipo: %s\" % fruta\n",
    "\n",
    "# Também podemos ir através de listas mistas também\n",
    "# Avisando que temos que usar %r uma vez que não sabemos o que está nele\n",
    "for i in cambio:\n",
    "    print \"Eu tenho %r\" % i\n",
    "# Também pode criar listas, iniciar com um vazio\n",
    "elementos = []\n",
    "\n",
    "# Em seguida, usar a função range para fazer 0 a 5 contas\n",
    "for i in range(0, 6):\n",
    "    print \"Adicionando %d na lista\" % i\n",
    "    # append é uma função que as listas entendem\n",
    "    elementos.append(i)\n",
    "    \n",
    "# Agora nos podemos imprimir tudo\n",
    "for i in elementos:\n",
    "    print \"Elemento foi: %d\" % i\n",
    "    "
   ]
  }
 ],
 "metadata": {
  "anaconda-cloud": {},
  "kernelspec": {
   "display_name": "Python 2",
   "language": "python",
   "name": "python2"
  },
  "language_info": {
   "codemirror_mode": {
    "name": "ipython",
    "version": 2
   },
   "file_extension": ".py",
   "mimetype": "text/x-python",
   "name": "python",
   "nbconvert_exporter": "python",
   "pygments_lexer": "ipython2",
   "version": "2.7.12"
  }
 },
 "nbformat": 4,
 "nbformat_minor": 1
}
