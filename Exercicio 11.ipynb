{
 "cells": [
  {
   "cell_type": "code",
   "execution_count": 1,
   "metadata": {
    "collapsed": false
   },
   "outputs": [
    {
     "name": "stdout",
     "output_type": "stream",
     "text": [
      "Quantos anos você tem?16\n",
      " Qual a sua altura?1.70\n",
      " Quanto você pesa?65\n",
      " Então, você tem '16' anos, '1.70' de altura e '65' de peso.\n"
     ]
    }
   ],
   "source": [
    "print \"Quantos anos você tem?\",\n",
    "idade = raw_input()\n",
    "print \"Qual a sua altura?\",\n",
    "altura = raw_input()\n",
    "print \"Quanto você pesa?\",\n",
    "peso = raw_input()\n",
    "\n",
    "print \"Então, você tem %r anos, %r de altura e %r de peso.\" % (idade, altura, peso)"
   ]
  }
 ],
 "metadata": {
  "anaconda-cloud": {},
  "kernelspec": {
   "display_name": "Python 2",
   "language": "python",
   "name": "python2"
  },
  "language_info": {
   "codemirror_mode": {
    "name": "ipython",
    "version": 2
   },
   "file_extension": ".py",
   "mimetype": "text/x-python",
   "name": "python",
   "nbconvert_exporter": "python",
   "pygments_lexer": "ipython2",
   "version": "2.7.12"
  }
 },
 "nbformat": 4,
 "nbformat_minor": 1
}
