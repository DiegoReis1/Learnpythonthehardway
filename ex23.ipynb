{
 "cells": [
  {
   "cell_type": "code",
   "execution_count": 3,
   "metadata": {
    "collapsed": true
   },
   "outputs": [],
   "source": [
    "#https://github.com/devil3249/simplePythonTools\n",
    "import os\n",
    "\n",
    "class clearScreenBash:\n",
    "    \"\"\"Usage: type 'clear' in your python script or interactive shell running in bash and watch your screen get cleared\"\"\"\n",
    "    def __repr__(self):\n",
    "        os.system(\"clear\")\n",
    "        return '0'\n",
    "\n",
    "clear = clearScreenBash()\n",
    "\n",
    "# Comentarios:\n",
    "# O que ele faz? - Limpa a tela do terminal\n",
    "# Cria um clase com uma função com um argumento self, chama o sistema e retorna 0 limpando o terminal\n",
    "# Muito legal, testei :) "
   ]
  }
 ],
 "metadata": {
  "anaconda-cloud": {},
  "kernelspec": {
   "display_name": "Python 2",
   "language": "python",
   "name": "python2"
  },
  "language_info": {
   "codemirror_mode": {
    "name": "ipython",
    "version": 2
   },
   "file_extension": ".py",
   "mimetype": "text/x-python",
   "name": "python",
   "nbconvert_exporter": "python",
   "pygments_lexer": "ipython2",
   "version": "2.7.12"
  }
 },
 "nbformat": 4,
 "nbformat_minor": 1
}
