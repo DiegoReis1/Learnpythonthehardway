{
 "cells": [
  {
   "cell_type": "code",
   "execution_count": 1,
   "metadata": {
    "collapsed": false
   },
   "outputs": [
    {
     "name": "stdout",
     "output_type": "stream",
     "text": [
      "Eu poderia ter um como este.\n",
      "Isso irá rodar.\n"
     ]
    }
   ],
   "source": [
    "# Um comentario, isso é para que você possa ler o seu programa mais tarde.\n",
    "# Qualquer coisa depois de # é ignorado pelo python.\n",
    "\n",
    "print \"Eu poderia ter um codigo como este.\" # e o comentario depois é ignorado\n",
    "\n",
    "# Você também pode usar um comentário para \"desativar\" ou comentar um pedaço de código:\n",
    "# Print \"Isso não vai funcionar.\"\n",
    "\n",
    "print \"Isso irá rodar.\"\n"
   ]
  }
 ],
 "metadata": {
  "anaconda-cloud": {},
  "kernelspec": {
   "display_name": "Python 2",
   "language": "python",
   "name": "python2"
  },
  "language_info": {
   "codemirror_mode": {
    "name": "ipython",
    "version": 2
   },
   "file_extension": ".py",
   "mimetype": "text/x-python",
   "name": "python",
   "nbconvert_exporter": "python",
   "pygments_lexer": "ipython2",
   "version": "2.7.12"
  }
 },
 "nbformat": 4,
 "nbformat_minor": 1
}
