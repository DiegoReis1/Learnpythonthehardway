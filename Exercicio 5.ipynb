{
 "cells": [
  {
   "cell_type": "code",
   "execution_count": 4,
   "metadata": {
    "collapsed": false
   },
   "outputs": [
    {
     "name": "stdout",
     "output_type": "stream",
     "text": [
      "Vamos falar sobre Zed A. Shaw.\n",
      "Ele é 74 polegadas de altura.\n",
      "Ele é 180 libras mais pesado.\n",
      "Na verdade ele não tão pesado\n",
      "Ele tem olhos Azul e cabelo marrom.\n",
      "Os dentes dele são geralmente Branco dependendo do café.\n",
      "Se eu adicionar 35, 74, and 180 eu tenho 289.\n"
     ]
    }
   ],
   "source": [
    "meu_nome = 'Zed A. Shaw'\n",
    "minha_idade = 35 # não é uma mentira\n",
    "minha_altura = 74 # polegadas\n",
    "meu_peso = 180 # lbs\n",
    "meus_olhos = 'Azul'\n",
    "meus_dentes = 'Branco'\n",
    "meu_cabelo = 'marrom'\n",
    "\n",
    "print \"Vamos falar sobre %s.\" % meu_nome\n",
    "print \"Ele é %d polegadas de altura.\" % minha_altura\n",
    "print \"Ele é %d libras mais pesado.\" % meu_peso\n",
    "print \"Na verdade ele não tão pesado\"\n",
    "print \"Ele tem olhos %s e cabelo %s.\" % (meus_olhos, meu_cabelo)\n",
    "print \"Os dentes dele são geralmente %s dependendo do café.\" % meus_dentes\n",
    "\n",
    "# Esta linha é complicada, para tentar obter o valor correto\n",
    "print \"Se eu adicionar %d, %d, and %d eu tenho %d.\" % (\n",
    "    minha_idade, minha_altura, meu_peso, minha_idade + minha_altura + meu_peso)"
   ]
  }
 ],
 "metadata": {
  "anaconda-cloud": {},
  "kernelspec": {
   "display_name": "Python 2",
   "language": "python",
   "name": "python2"
  },
  "language_info": {
   "codemirror_mode": {
    "name": "ipython",
    "version": 2
   },
   "file_extension": ".py",
   "mimetype": "text/x-python",
   "name": "python",
   "nbconvert_exporter": "python",
   "pygments_lexer": "ipython2",
   "version": "2.7.12"
  }
 },
 "nbformat": 4,
 "nbformat_minor": 1
}
