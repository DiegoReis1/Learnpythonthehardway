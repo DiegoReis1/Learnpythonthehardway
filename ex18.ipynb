{
 "cells": [
  {
   "cell_type": "code",
   "execution_count": 1,
   "metadata": {
    "collapsed": false
   },
   "outputs": [
    {
     "name": "stdout",
     "output_type": "stream",
     "text": [
      "arg1: 'Zed', arg2: 'Shaw'\n",
      "arg1: 'Zed', arg2: 'Shaw'\n",
      "arg1: 'First!'\n",
      "Eu nao tenho nada'.\n"
     ]
    }
   ],
   "source": [
    "# este é como o seu script com argv\n",
    "def print_dois(*args):\n",
    "    arg1, arg2 = args\n",
    "    print \"arg1: %r, arg2: %r\" % (arg1, arg2)\n",
    "\n",
    "# ok, *args é realmente inútil, podemos simplesmente fazer isso\n",
    "def print_dois_de_novo(arg1, arg2):\n",
    "    print \"arg1: %r, arg2: %r\" % (arg1, arg2)\n",
    "\n",
    "# isso só tem um argumento\n",
    "def print_um(arg1):\n",
    "    print \"arg1: %r\" % arg1\n",
    "\n",
    "# este leva sem argumentos\n",
    "def print_nada():\n",
    "    print \"Eu nao tenho nada'.\"\n",
    "\n",
    "\n",
    "print_dois(\"Zed\",\"Shaw\")\n",
    "print_dois_de_novo(\"Zed\",\"Shaw\")\n",
    "print_um(\"First!\")\n",
    "print_nada()"
   ]
  }
 ],
 "metadata": {
  "kernelspec": {
   "display_name": "Python 2",
   "language": "python",
   "name": "python2"
  },
  "language_info": {
   "codemirror_mode": {
    "name": "ipython",
    "version": 2
   },
   "file_extension": ".py",
   "mimetype": "text/x-python",
   "name": "python",
   "nbconvert_exporter": "python",
   "pygments_lexer": "ipython2",
   "version": "2.7.12"
  }
 },
 "nbformat": 4,
 "nbformat_minor": 1
}
