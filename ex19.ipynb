{
 "cells": [
  {
   "cell_type": "code",
   "execution_count": 2,
   "metadata": {
    "collapsed": false
   },
   "outputs": [
    {
     "name": "stdout",
     "output_type": "stream",
     "text": [
      "Nós podemos apenas dar os números de função diretamente:\n",
      "Voce tem 20 queijos!\n",
      "Voce tem 30 caixas de biscoito!\n",
      "Cara é suficiente para uma festa!\n",
      "Obter um cobertor.\n",
      "\n",
      "Ou, podemos usar as variáveis do nosso script:\n",
      "Voce tem 10 queijos!\n",
      "Voce tem 50 caixas de biscoito!\n",
      "Cara é suficiente para uma festa!\n",
      "Obter um cobertor.\n",
      "\n",
      "Podemos até fazer matemática dentro também:\n",
      "Voce tem 30 queijos!\n",
      "Voce tem 11 caixas de biscoito!\n",
      "Cara é suficiente para uma festa!\n",
      "Obter um cobertor.\n",
      "\n",
      "E nós podemos combinar os dois, variáveis e matemática:\n",
      "Voce tem 110 queijos!\n",
      "Voce tem 1050 caixas de biscoito!\n",
      "Cara é suficiente para uma festa!\n",
      "Obter um cobertor.\n",
      "\n"
     ]
    }
   ],
   "source": [
    "def queijo_e_biscoitos(contagem_queijo, caixas_de_biscoitos):\n",
    "    print \"Voce tem %d queijos!\" % contagem_queijo\n",
    "    print \"Voce tem %d caixas de biscoito!\" % caixas_de_biscoitos\n",
    "    print \"Cara é suficiente para uma festa!\"\n",
    "    print \"Obter um cobertor.\\n\"\n",
    "\n",
    "\n",
    "print \"Nós podemos apenas dar os números de função diretamente:\"\n",
    "queijo_e_biscoitos(20, 30)\n",
    "\n",
    "\n",
    "print \"Ou, podemos usar as variáveis do nosso script:\"\n",
    "quantidade_de_queijo= 10\n",
    "quantidade_de_biscoito = 50\n",
    "\n",
    "queijo_e_biscoitos(quantidade_de_queijo, quantidade_de_biscoito)\n",
    "\n",
    "\n",
    "print \"Podemos até fazer matemática dentro também:\"\n",
    "queijo_e_biscoitos(10 + 20, 5 + 6)\n",
    "\n",
    "\n",
    "print \"E nós podemos combinar os dois, variáveis e matemática:\"\n",
    "queijo_e_biscoitos(quantidade_de_queijo + 100, quantidade_de_biscoito + 1000)"
   ]
  }
 ],
 "metadata": {
  "kernelspec": {
   "display_name": "Python 2",
   "language": "python",
   "name": "python2"
  },
  "language_info": {
   "codemirror_mode": {
    "name": "ipython",
    "version": 2
   },
   "file_extension": ".py",
   "mimetype": "text/x-python",
   "name": "python",
   "nbconvert_exporter": "python",
   "pygments_lexer": "ipython2",
   "version": "2.7.12"
  }
 },
 "nbformat": 4,
 "nbformat_minor": 1
}
