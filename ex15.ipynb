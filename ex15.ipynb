{
 "cells": [
  {
   "cell_type": "code",
   "execution_count": null,
   "metadata": {
    "collapsed": true
   },
   "outputs": [],
   "source": [
    "from sys import argv\n",
    "\n",
    "script, arquivo = argv\n",
    "\n",
    "txt = open(arquivo)\n",
    "\n",
    "print \"Aqui esta o seu arquivo %r:\" % arquivo\n",
    "print txt.read()\n",
    "\n",
    "print \"Escreva o nome do arquivo de novo:\"\n",
    "arquivo_de_novo = raw_input(\"> \")\n",
    "\n",
    "txt_de_novo = open(arquivo_de_novo)\n",
    "\n",
    "print txt_de_novo.read()\n",
    "\n",
    "#Use o terminal para rodar\n",
    "#Crie um arquivo txt\n",
    "#python nome_do_arquivo.py nome_do_arquivo.txt\n",
    "#ex:python ex15.py ex15_sample.txt"
   ]
  }
 ],
 "metadata": {
  "anaconda-cloud": {},
  "kernelspec": {
   "display_name": "Python 2",
   "language": "python",
   "name": "python2"
  },
  "language_info": {
   "codemirror_mode": {
    "name": "ipython",
    "version": 2
   },
   "file_extension": ".py",
   "mimetype": "text/x-python",
   "name": "python",
   "nbconvert_exporter": "python",
   "pygments_lexer": "ipython2",
   "version": "2.7.12"
  }
 },
 "nbformat": 4,
 "nbformat_minor": 1
}
