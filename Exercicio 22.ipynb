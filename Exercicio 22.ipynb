{
 "cells": [
  {
   "cell_type": "code",
   "execution_count": 2,
   "metadata": {
    "collapsed": false
   },
   "outputs": [],
   "source": [
    "# Não haverá qualquer código neste exercício ou no próximo, por isso não há \"Que você deve ver\" ou \"Estudar Exercicios\" também. Na verdade, este exercício é como um Exercicio de Estudo gigante. Eu vou ter de fazer uma revisão do que você aprendeu até agora.\n",
    "\n",
    "# Em primeiro lugar, voltar através de cada exercício que você tem feito até agora e anote cada palavra e símbolo (um outro nome para \"caráter\") que você usou. Certifique-se de sua lista de símbolos está completa.\n",
    "\n",
    "# Ao lado de cada palavra ou símbolo, escreva o seu nome eo que ele faz. Se você não consegue encontrar um nome para um símbolo neste livro, procure online. Se você não sabe o que uma palavra ou símbolo faz leia sobre ele novamente e tente usá-lo em algum código.\n",
    "\n",
    "# Você pode se deparar com algumas coisas que você não pode descobrir ou sabe, então apenas manter aqueles na lista e estar pronto para procurá-los quando você encontrá-los.\n",
    "\n",
    "# Depois de ter sua lista, passar alguns dias reescrevendo a lista e duplo controlo que é correto. Isso pode ficar chato, mas fazer passar e realmente pregá-lo para baixo.\n",
    "\n",
    "# Depois de ter memorizado a lista e o que eles fazem, então intensificar-se, escrevendo tabelas de símbolos, seus nomes, e o que eles fazem de memória. Se você acertar alguns que você não consegue se lembrar da memória, volte e memorizá-los novamente.\n",
    "\n",
    "# Lista\n",
    "# print - imprime coisas\n",
    "# \"#\" faz um comentario\n",
    "# \"+\" - soma\n",
    "# \"-\" - diminui\n",
    "# \"/\" - dividi\n",
    "# \"*\" - multiplica\n",
    "# \">=\" - ve o que é maior ou igual\n",
    "# \"<=\" - ve o que é menor ou igual\n",
    "# \">\" - maior que \n",
    "# \"<\" menor que\n",
    "# \"%s\" - mostra uma variavel do tipo string\n",
    "# \"%d\" - mostra uma variavel do tipo int\n",
    "# \"=\" iguala alguma coisa\n",
    "# \"False\" - valor booleano Falso\n",
    "# \"True\" - valor booleano Verdadeiro\n",
    "# \"%r\" - mostra uma variavel do tipo boolean\n",
    "# \" \"\"\" \"\"\"  \" - string com varias linhas\n",
    "# \"\\t*\" - deixa centralizado com esse simbolo *\n",
    "# \"\\t\" - centralizado\n",
    "# \"raw_input()\" - colcoa um input para dados\n",
    "# \"import\" - importa de alguma lugar\n",
    "# \"from\" - puxa de alguem\n",
    "# \"read()\" - le um arquivo\n",
    "# \"open()\" - abre um arquivo\n",
    "# \"truncate()\" trunca um arquivo\n",
    "# \"write()\" - permite escrever\n",
    "# \"close()\" - fecha\n",
    "# \"def\" - cria um definição\n",
    "# \"def dsa()\" - cria uma definição com nome e argumento\n",
    "# \"seek()\" - esconde"
   ]
  }
 ],
 "metadata": {
  "anaconda-cloud": {},
  "kernelspec": {
   "display_name": "Python 2",
   "language": "python",
   "name": "python2"
  },
  "language_info": {
   "codemirror_mode": {
    "name": "ipython",
    "version": 2
   },
   "file_extension": ".py",
   "mimetype": "text/x-python",
   "name": "python",
   "nbconvert_exporter": "python",
   "pygments_lexer": "ipython2",
   "version": "2.7.12"
  }
 },
 "nbformat": 4,
 "nbformat_minor": 1
}
