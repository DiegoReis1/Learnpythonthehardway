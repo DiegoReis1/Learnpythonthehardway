{
 "cells": [
  {
   "cell_type": "code",
   "execution_count": 6,
   "metadata": {
    "collapsed": false
   },
   "outputs": [
    {
     "name": "stdout",
     "output_type": "stream",
     "text": [
      "Aqui estão os dias:  Seg Ter Qua Qui Sex Sab Dom\n",
      "Aqui estão os meses:  Jan\n",
      "Fev\n",
      "Mar\n",
      "Abr\n",
      "Mai\n",
      "Jun\n",
      "Jul\n",
      "Ago\n",
      "\n",
      "Há algo acontecendo aqui.\n",
      "Com os três aspas.\n",
      "Nós vamos ser capazes de escrever tanto quanto nós gostamos.\n",
      "Até 4 linhas, se queremos, ou 5, ou 6.\n",
      "\n"
     ]
    }
   ],
   "source": [
    "# Aqui estão algumas novas coisas estranhas, lembre-se de digitá-las exatamente.\n",
    "\n",
    "dias = \"Seg Ter Qua Qui Sex Sab Dom\"\n",
    "meses = \"Jan\\nFev\\nMar\\nAbr\\nMai\\nJun\\nJul\\nAgo\"\n",
    "\n",
    "print \"Aqui estão os dias: \", dias\n",
    "print \"Aqui estão os meses: \", meses\n",
    "\n",
    "print \"\"\"\n",
    "Há algo acontecendo aqui.\n",
    "Com os três aspas.\n",
    "Nós vamos ser capazes de escrever tanto quanto nós gostamos.\n",
    "Até 4 linhas, se queremos, ou 5, ou 6.\n",
    "\"\"\""
   ]
  }
 ],
 "metadata": {
  "anaconda-cloud": {},
  "kernelspec": {
   "display_name": "Python 2",
   "language": "python",
   "name": "python2"
  },
  "language_info": {
   "codemirror_mode": {
    "name": "ipython",
    "version": 2
   },
   "file_extension": ".py",
   "mimetype": "text/x-python",
   "name": "python",
   "nbconvert_exporter": "python",
   "pygments_lexer": "ipython2",
   "version": "2.7.12"
  }
 },
 "nbformat": 4,
 "nbformat_minor": 1
}
