{
 "cells": [
  {
   "cell_type": "code",
   "execution_count": 2,
   "metadata": {
    "collapsed": false
   },
   "outputs": [
    {
     "name": "stdout",
     "output_type": "stream",
     "text": [
      "No topo i é 0\n",
      "Numeros agora:  [0]\n",
      "Embaixo i é 1\n",
      "No topo i é 1\n",
      "Numeros agora:  [0, 1]\n",
      "Embaixo i é 2\n",
      "No topo i é 2\n",
      "Numeros agora:  [0, 1, 2]\n",
      "Embaixo i é 3\n",
      "No topo i é 3\n",
      "Numeros agora:  [0, 1, 2, 3]\n",
      "Embaixo i é 4\n",
      "No topo i é 4\n",
      "Numeros agora:  [0, 1, 2, 3, 4]\n",
      "Embaixo i é 5\n",
      "No topo i é 5\n",
      "Numeros agora:  [0, 1, 2, 3, 4, 5]\n",
      "Embaixo i é 6\n",
      "Os numeros: \n",
      "0\n",
      "1\n",
      "2\n",
      "3\n",
      "4\n",
      "5\n"
     ]
    }
   ],
   "source": [
    "i = 0\n",
    "numeros = []\n",
    "\n",
    "while i < 6:\n",
    "    print \"No topo i é %d\" % i\n",
    "    numeros.append(i)\n",
    "    \n",
    "    i = i + 1\n",
    "    print \"Numeros agora: \", numeros\n",
    "    print \"Embaixo i é %d\" % i\n",
    "    \n",
    "print \"Os numeros: \"\n",
    "\n",
    "for num in numeros:\n",
    "    print num"
   ]
  }
 ],
 "metadata": {
  "anaconda-cloud": {},
  "kernelspec": {
   "display_name": "Python 2",
   "language": "python",
   "name": "python2"
  },
  "language_info": {
   "codemirror_mode": {
    "name": "ipython",
    "version": 2
   },
   "file_extension": ".py",
   "mimetype": "text/x-python",
   "name": "python",
   "nbconvert_exporter": "python",
   "pygments_lexer": "ipython2",
   "version": "2.7.12"
  }
 },
 "nbformat": 4,
 "nbformat_minor": 1
}
