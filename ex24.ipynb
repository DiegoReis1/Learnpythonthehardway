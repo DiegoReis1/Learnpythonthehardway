{
 "cells": [
  {
   "cell_type": "code",
   "execution_count": 4,
   "metadata": {
    "collapsed": false
   },
   "outputs": [
    {
     "name": "stdout",
     "output_type": "stream",
     "text": [
      "Vamos praticar tudo\n",
      "Voce precisa de saber sobre escapes com que fazem \n",
      " novas linhas e \t tabs.\n",
      "--------------\n",
      "\n",
      "\tO adoravel mundo\n",
      "com uma lógica tão firmemente plantada\n",
      "não pode discernir \n",
      " as necessidades de amor\n",
      "nem compreender a paixão da intuição\n",
      "e requer uma explicação\n",
      "\n",
      "\t\tonde não existe nenhuma.\n",
      "\n",
      "--------------\n",
      "Isso deve ser cinco: 5\n",
      "Com um ponto de partida de: 10000\n",
      "Teríamos 5000000 jujubas, 5000 frascos, e 50 caixas.\n",
      "Nós também podemos fazer isso da seguinte maneira:\n",
      "Teríamos 500000 jujubas, 500 frascos, e 5 caixas.\n"
     ]
    }
   ],
   "source": [
    "print \"Vamos praticar tudo\"\n",
    "print 'Voce precisa de saber sobre escapes com que fazem \\n novas linhas e \\t tabs.'\n",
    "\n",
    "poem = \"\"\"\n",
    "\\tO adoravel mundo\n",
    "com uma lógica tão firmemente plantada\n",
    "não pode discernir \\n as necessidades de amor\n",
    "nem compreender a paixão da intuição\n",
    "e requer uma explicação\n",
    "\\n\\t\\tonde não existe nenhuma.\n",
    "\"\"\"\n",
    "\n",
    "print \"--------------\"\n",
    "print poem\n",
    "print \"--------------\"\n",
    "\n",
    "\n",
    "cinco = 10 - 2 + 3 - 6\n",
    "print \"Isso deve ser cinco: %s\" % cinco\n",
    "\n",
    "def formula_secreta(iniciando):\n",
    "    jujubas = iniciando * 500\n",
    "    jaras = jujubas / 1000\n",
    "    caixotes = jaras / 100\n",
    "    return jujubas, jaras, caixotes\n",
    "\n",
    "\n",
    "ponto_de_partida = 10000\n",
    "jujubas, jaras, caixotes = formula_secreta(ponto_de_partida)\n",
    "\n",
    "print \"Com um ponto de partida de: %d\" % ponto_de_partida\n",
    "print \"Teríamos %d jujubas, %d frascos, e %d caixas.\" % (jujubas, jaras, caixotes)\n",
    "\n",
    "ponto_de_partida = ponto_de_partida / 10\n",
    "\n",
    "print \"Nós também podemos fazer isso da seguinte maneira:\"\n",
    "print \"Teríamos %d jujubas, %d frascos, e %d caixas.\" % formula_secreta(ponto_de_partida)"
   ]
  }
 ],
 "metadata": {
  "anaconda-cloud": {},
  "kernelspec": {
   "display_name": "Python 2",
   "language": "python",
   "name": "python2"
  },
  "language_info": {
   "codemirror_mode": {
    "name": "ipython",
    "version": 2
   },
   "file_extension": ".py",
   "mimetype": "text/x-python",
   "name": "python",
   "nbconvert_exporter": "python",
   "pygments_lexer": "ipython2",
   "version": "2.7.12"
  }
 },
 "nbformat": 4,
 "nbformat_minor": 1
}
