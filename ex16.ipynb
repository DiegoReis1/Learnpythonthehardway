{
 "cells": [
  {
   "cell_type": "code",
   "execution_count": null,
   "metadata": {
    "collapsed": true
   },
   "outputs": [],
   "source": [
    "from sys import argv\n",
    "\n",
    "script, arquivo = argv\n",
    "\n",
    "print \"Nos vamos apagar %r.\" % arquivo\n",
    "print \"Se voce nao quiser isso, pressione CTRL-C (^C).\"\n",
    "print \"Se voce quiser isso, pressione RETURN.\"\n",
    "\n",
    "raw_input(\"?\")\n",
    "\n",
    "print \"Abrindo o arquivo...\"\n",
    "alvo = open(arquivo, 'w')\n",
    "\n",
    "print \"Truncando o arquivo. Adeus!\"\n",
    "alvo.truncate()\n",
    "\n",
    "print \"Agora eu vou pedir-lhe tres linhas.\"\n",
    "\n",
    "linha1 = raw_input(\"linha 1: \")\n",
    "linha2 = raw_input(\"linha 2: \")\n",
    "linha3 = raw_input(\"linha 3: \")\n",
    "\n",
    "print \"Eu estou indo para escrever estes para o arquivo.\"\n",
    "\n",
    "alvo.write(linha1)\n",
    "alvo.write(\"\\n\")\n",
    "alvo.write(linha2)\n",
    "alvo.write(\"\\n\")\n",
    "alvo.write(linha3)\n",
    "alvo.write(\"\\n\")\n",
    "\n",
    "print \"E finalmente, fecha-lo.\"\n",
    "alvo.close()\n",
    "\n",
    "#Use o terminal para rodar\n",
    "#Crie um arquivo txt\n",
    "#python nome_do_arquivo.py nome_do_arquivo.txt\n",
    "#ex:python tes1.py test.txt"
   ]
  }
 ],
 "metadata": {
  "kernelspec": {
   "display_name": "Python 2",
   "language": "python",
   "name": "python2"
  },
  "language_info": {
   "codemirror_mode": {
    "name": "ipython",
    "version": 2
   },
   "file_extension": ".py",
   "mimetype": "text/x-python",
   "name": "python",
   "nbconvert_exporter": "python",
   "pygments_lexer": "ipython2",
   "version": "2.7.12"
  }
 },
 "nbformat": 4,
 "nbformat_minor": 1
}
