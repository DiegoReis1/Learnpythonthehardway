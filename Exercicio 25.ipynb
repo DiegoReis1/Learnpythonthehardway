{
 "cells": [
  {
   "cell_type": "code",
   "execution_count": 20,
   "metadata": {
    "collapsed": false
   },
   "outputs": [],
   "source": [
    "def quebra_palavras(material):\n",
    "    palavras = material.split(' ')\n",
    "    return palavras\n",
    "\n",
    "def palavras_sortidas(palavras):\n",
    "    return sorted(palavras)\n",
    "\n",
    "def print_primeira_palavra(palavras):\n",
    "    palavra = palavras.pop(0)\n",
    "    print palavra\n",
    "\n",
    "def print_ultima_palavra(palavras):\n",
    "    palavra = palavras.pop(-1)\n",
    "    print palavra\n",
    "\n",
    "def frase_sortida(frase):\n",
    "    palavras = quebra_palavras(frase)\n",
    "    return palavras_sortidas(palavras)\n",
    "\n",
    "def print_primeira_e_ultima(frase):\n",
    "    palavras = quebra_palavras(frase)\n",
    "    print_primeira_palavra(palavras)\n",
    "    print_ultima_palavra(palavras)\n",
    "\n",
    "def print_primeira_e_ultima_sortidas(frase):\n",
    "    palavras = frase_sortida(frase)\n",
    "    print_primeira_palavra\n",
    "    print_ultima_palavra(palavras)"
   ]
  },
  {
   "cell_type": "code",
   "execution_count": 22,
   "metadata": {
    "collapsed": false
   },
   "outputs": [
    {
     "name": "stdout",
     "output_type": "stream",
     "text": [
      "All\n",
      "wait.\n",
      "Imprime\n",
      "frase.\n",
      "última.\n"
     ]
    }
   ],
   "source": [
    "quebra_palavras(\"\"\"Esta funcao ira quebrar palavras para nos.\"\"\")\n",
    "palavras_sortidas(\"\"\"Pavras sortidas.\"\"\")\n",
    "print_primeira_palavra(['All', 'good', 'things', 'come', 'to', 'those', 'who', 'wait.'])\n",
    "print_ultima_palavra(['All', 'good', 'things', 'come', 'to', 'those', 'who', 'wait.'])\n",
    "frase_sortida(\"\"\"Leva em uma frase completa e retorna as palavras ordenadas.\"\"\")\n",
    "print_primeira_e_ultima(\"\"\"Imprime a primeira e a última palavra da frase.\"\"\")\n",
    "print_primeira_e_ultima_sortidas(\"\"\"Classifica as palavras, em seguida, imprime a primeira e a última.\"\"\")"
   ]
  }
 ],
 "metadata": {
  "anaconda-cloud": {},
  "kernelspec": {
   "display_name": "Python 2",
   "language": "python",
   "name": "python2"
  },
  "language_info": {
   "codemirror_mode": {
    "name": "ipython",
    "version": 2
   },
   "file_extension": ".py",
   "mimetype": "text/x-python",
   "name": "python",
   "nbconvert_exporter": "python",
   "pygments_lexer": "ipython2",
   "version": "2.7.12"
  }
 },
 "nbformat": 4,
 "nbformat_minor": 1
}
