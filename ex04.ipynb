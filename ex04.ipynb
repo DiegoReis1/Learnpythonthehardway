{
 "cells": [
  {
   "cell_type": "code",
   "execution_count": 5,
   "metadata": {
    "collapsed": false
   },
   "outputs": [
    {
     "name": "stdout",
     "output_type": "stream",
     "text": [
      "\n",
      "Há 100 carros disponíveis.\n",
      "Tem apenas os 30 motoristas disponíveis.\n",
      "Havera 70 carros vazios hoje.\n",
      "Nós podemos transportar 120.0 pessoas hoje.\n",
      "Nós temos 90 para caronas hoje.\n",
      "Precisamos colocar cerca de 3 em cada carro.\n"
     ]
    }
   ],
   "source": [
    "carros = 100\n",
    "espaco_dentro_do_carro = 4.0\n",
    "motoristas = 30\n",
    "passageiros = 90\n",
    "carros_sem_motoristas = carros - motoristas\n",
    "carros_motoristas = motoristas\n",
    "capacidade_para_caronas = carros_motoristas * espaco_dentro_do_carro\n",
    "media_de_passageiros_por_carro = passageiros / carros_motoristas\n",
    "\n",
    "print \"\"\n",
    "print \"Há\", carros, \"carros disponíveis.\"\n",
    "print \"Tem apenas os\", motoristas , \"motoristas disponíveis.\"\n",
    "print \"Havera\", carros_sem_motoristas, \"carros vazios hoje.\"\n",
    "print \"Nós podemos transportar\", capacidade_para_caronas, \"pessoas hoje.\"\n",
    "print \"Nós temos\", passageiros ,\"para caronas hoje.\"\n",
    "print \"Precisamos colocar cerca de\", media_de_passageiros_por_carro, \"em cada carro.\"\n",
    "\n"
   ]
  }
 ],
 "metadata": {
  "anaconda-cloud": {},
  "kernelspec": {
   "display_name": "Python 2",
   "language": "python",
   "name": "python2"
  },
  "language_info": {
   "codemirror_mode": {
    "name": "ipython",
    "version": 2
   },
   "file_extension": ".py",
   "mimetype": "text/x-python",
   "name": "python",
   "nbconvert_exporter": "python",
   "pygments_lexer": "ipython2",
   "version": "2.7.12"
  }
 },
 "nbformat": 4,
 "nbformat_minor": 1
}
