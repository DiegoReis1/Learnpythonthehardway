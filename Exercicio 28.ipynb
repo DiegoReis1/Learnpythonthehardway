{
 "cells": [
  {
   "cell_type": "code",
   "execution_count": 1,
   "metadata": {
    "collapsed": false
   },
   "outputs": [
    {
     "name": "stdout",
     "output_type": "stream",
     "text": [
      "True\n",
      "False\n",
      "False\n",
      "True\n",
      "True\n",
      "True\n",
      "False\n",
      "True\n",
      "False\n",
      "False\n"
     ]
    }
   ],
   "source": [
    "# Pratica Boleana\n",
    "\n",
    "print(True and True)\n",
    "print(False and True)\n",
    "print(1 == 1 and 2 == 1)\n",
    "print(\"test\" == \"test\")\n",
    "print(1 == 1 or 2 != 1)\n",
    "print(True and 1 == 1)\n",
    "print(False and 0 != 0)\n",
    "print(True or 1 == 1)\n",
    "print(\"test\" == \"testing\")\n",
    "print(1 != 0 and 2 == 1)\n",
    "print(\"test\" != \"testing\")\n",
    "print(\"test\" == 1)\n",
    "print not (True and False)\n",
    "print not (1 == 1 and 0 != 1)\n",
    "print not (10 == 1 or 1000 == 1000)\n",
    "print not (1 != 10 or 3 == 4)\n",
    "print not (\"testing\" == \"testing\" and \"Zed\" == \"Cool Guy\")\n",
    "print(1 == 1 and (not (\"testing\" == 1 or 1 == 0)))\n",
    "print(\"chunky\" == \"bacon\" and (not (3 == 4 or 3 == 3)))\n",
    "print (3 == 3 and (not (\"testing\" == \"testing\" or \"Python\" == \"Fun\")))\n"
   ]
  }
 ],
 "metadata": {
  "anaconda-cloud": {},
  "kernelspec": {
   "display_name": "Python 2",
   "language": "python",
   "name": "python2"
  },
  "language_info": {
   "codemirror_mode": {
    "name": "ipython",
    "version": 2
   },
   "file_extension": ".py",
   "mimetype": "text/x-python",
   "name": "python",
   "nbconvert_exporter": "python",
   "pygments_lexer": "ipython2",
   "version": "2.7.12"
  }
 },
 "nbformat": 4,
 "nbformat_minor": 1
}
