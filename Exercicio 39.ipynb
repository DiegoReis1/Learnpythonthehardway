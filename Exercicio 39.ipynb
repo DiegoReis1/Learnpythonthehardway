{
 "cells": [
  {
   "cell_type": "code",
   "execution_count": 6,
   "metadata": {
    "collapsed": false
   },
   "outputs": [
    {
     "name": "stdout",
     "output_type": "stream",
     "text": [
      "----------\n",
      "NY tem:  Nova York\n",
      "OR tem:  Portland\n",
      "----------\n",
      "A abreviação de Michigan é:  MI\n",
      "A abreviatura da Flórida é:  FL\n",
      "----------\n",
      "Michigan tem:  Detroit\n",
      "Florida tem:  Jacksonville\n",
      "----------\n",
      "{'California': 'CA', 'Nova York': 'NY', 'Florida': 'FL', 'Michigan': 'MI', 'Oregon': 'OR'} é abreviado CA\n",
      "{'California': 'CA', 'Nova York': 'NY', 'Florida': 'FL', 'Michigan': 'MI', 'Oregon': 'OR'} é abreviado NY\n",
      "{'California': 'CA', 'Nova York': 'NY', 'Florida': 'FL', 'Michigan': 'MI', 'Oregon': 'OR'} é abreviado FL\n",
      "{'California': 'CA', 'Nova York': 'NY', 'Florida': 'FL', 'Michigan': 'MI', 'Oregon': 'OR'} é abreviado MI\n",
      "{'California': 'CA', 'Nova York': 'NY', 'Florida': 'FL', 'Michigan': 'MI', 'Oregon': 'OR'} é abreviado OR\n",
      "----------\n",
      "FL tem a cidade Jacksonville\n",
      "CA tem a cidade Sao Francisco\n",
      "MI tem a cidade Detroit\n",
      "OR tem a cidade Portland\n",
      "NY tem a cidade Nova York\n",
      "----------\n",
      "California estado é abreviado CA e tem cidade Sao Francisco\n",
      "Nova York estado é abreviado NY e tem cidade Nova York\n",
      "Florida estado é abreviado FL e tem cidade Jacksonville\n",
      "Michigan estado é abreviado MI e tem cidade Detroit\n",
      "Oregon estado é abreviado OR e tem cidade Portland\n",
      "----------\n",
      "Desculpe, sem Texas.\n",
      "A cidade para o estado 'TX' é: Não existe\n"
     ]
    }
   ],
   "source": [
    "estados = {\n",
    "    'Oregon': 'OR',\n",
    "    'Florida': 'FL',\n",
    "    'California': 'CA',\n",
    "    'Nova York': 'NY',\n",
    "    'Michigan': 'MI'\n",
    "}\n",
    "\n",
    "cidades = {\n",
    "    'CA': 'Sao Francisco',\n",
    "    'MI': 'Detroit',\n",
    "    'FL': 'Jacksonville'\n",
    "}\n",
    "\n",
    "cidades['NY'] = 'Nova York'\n",
    "cidades['OR'] = 'Portland'\n",
    "\n",
    "print '-' * 10\n",
    "print \"NY tem: \", cidades['NY']\n",
    "print \"OR tem: \", cidades['OR']\n",
    "\n",
    "print '-' * 10\n",
    "print \"A abreviação de Michigan é: \", estados['Michigan']\n",
    "print \"A abreviatura da Flórida é: \", estados['Florida']\n",
    "\n",
    "print '-' * 10\n",
    "print \"Michigan tem: \", cidades[estados['Michigan']]\n",
    "print \"Florida tem: \", cidades[estados['Florida']]\n",
    "\n",
    "print '-' * 10\n",
    "for estado, abrevi in estados.items():\n",
    "    print \"%s é abreviado %s\" % (estados, abrevi)\n",
    "\n",
    "print '-' * 10\n",
    "for abrevi, cidade in cidades.items():\n",
    "    print \"%s tem a cidade %s\" % (abrevi, cidade)\n",
    "    \n",
    "print '-' * 10\n",
    "for estado, abrevi in estados.items():\n",
    "    print \"%s estado é abreviado %s e tem cidade %s\" % (\n",
    "        estado, abrevi, cidades[abrevi])\n",
    "\n",
    "print '-' * 10\n",
    "estado = estados.get('Texas')\n",
    "\n",
    "if not estado:\n",
    "    print \"Desculpe, sem Texas.\"\n",
    "\n",
    "cidade = cidades.get('TX', 'Não existe')\n",
    "print \"A cidade para o estado 'TX' é: %s\" % cidade"
   ]
  }
 ],
 "metadata": {
  "anaconda-cloud": {},
  "kernelspec": {
   "display_name": "Python [default]",
   "language": "python",
   "name": "python2"
  },
  "language_info": {
   "codemirror_mode": {
    "name": "ipython",
    "version": 2
   },
   "file_extension": ".py",
   "mimetype": "text/x-python",
   "name": "python",
   "nbconvert_exporter": "python",
   "pygments_lexer": "ipython2",
   "version": "2.7.12"
  }
 },
 "nbformat": 4,
 "nbformat_minor": 1
}
