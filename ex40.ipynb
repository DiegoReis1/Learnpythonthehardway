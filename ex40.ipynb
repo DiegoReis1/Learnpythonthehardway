{
 "cells": [
  {
   "cell_type": "code",
   "execution_count": 6,
   "metadata": {
    "collapsed": false
   },
   "outputs": [
    {
     "name": "stdout",
     "output_type": "stream",
     "text": [
      "Parabéns pra você\n",
      "Eu não quero ser processado\n",
      "Então eu vou parar por aí\n",
      "They rally around tha family\n",
      "With pockets full of shells\n"
     ]
    }
   ],
   "source": [
    "class musica(object):\n",
    "\n",
    "    def __init__(self, letras):\n",
    "        self.letras = letras\n",
    "\n",
    "    def cante_me_uma_musica(self):\n",
    "        for linha in self.letras:\n",
    "            print linha\n",
    "            \n",
    "feliz_aniversario_letra = [\"Parabéns pra você\",\n",
    "                   \"Eu não quero ser processado\",\n",
    "                   \"Então eu vou parar por aí\"]\n",
    "    \n",
    "bulls_on_parade_letra = [\"They rally around tha family\",\n",
    "                        \"With pockets full of shells\"]\n",
    "\n",
    "feliz_aniversario = musica(feliz_aniversario_letra)\n",
    "\n",
    "bulls_on_parade = musica(bulls_on_parade_letra)\n",
    "\n",
    "feliz_aniversario.cante_me_uma_musica()\n",
    "\n",
    "bulls_on_parade.cante_me_uma_musica()"
   ]
  }
 ],
 "metadata": {
  "kernelspec": {
   "display_name": "Python [default]",
   "language": "python",
   "name": "python2"
  },
  "language_info": {
   "codemirror_mode": {
    "name": "ipython",
    "version": 2
   },
   "file_extension": ".py",
   "mimetype": "text/x-python",
   "name": "python",
   "nbconvert_exporter": "python",
   "pygments_lexer": "ipython2",
   "version": "2.7.12"
  }
 },
 "nbformat": 4,
 "nbformat_minor": 1
}
