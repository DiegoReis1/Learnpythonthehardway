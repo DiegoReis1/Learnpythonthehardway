{
 "cells": [
  {
   "cell_type": "code",
   "execution_count": 15,
   "metadata": {
    "collapsed": false,
    "scrolled": true
   },
   "outputs": [],
   "source": [
    "def somando(a, b):\n",
    "    print \"SOMANDO %d + %d\" % (a, b)\n",
    "    return a + b\n",
    "\n",
    "def subitraindo(a, b):\n",
    "    print \"SUBITRAINDO %d - %d\" % (a, b)\n",
    "    return a - b\n",
    "\n",
    "def multiplicacao(a, b):\n",
    "    print \"MULTIPLICANDO %d * %d\" % (a, b)\n",
    "    return a * b\n",
    "\n",
    "def dividindo(a, b):\n",
    "    print \"DIVIDINDO %d / %d\" % (a, b)\n",
    "    return a / b"
   ]
  },
  {
   "cell_type": "code",
   "execution_count": 14,
   "metadata": {
    "collapsed": false
   },
   "outputs": [
    {
     "name": "stdout",
     "output_type": "stream",
     "text": [
      "Vamos fazer matematica com funcoes\n",
      "SOMANDO 30 + 5\n",
      "SUBITRAINDO 8 - 4\n",
      "MULTIPLICANDO 90 * 2\n",
      "DIVIDINDO 100 / 2\n",
      "Idade: 35, Altura: 4, Peso: 180, QI: 50\n",
      "Aqui é um quebra-cabeca\n",
      "DIVIDINDO 50 / 2\n",
      "MULTIPLICANDO 180 * 25\n",
      "SUBITRAINDO 4 - 4500\n",
      "SOMANDO 35 + -4496\n",
      "Isso torna-se: -4461 você pode fazê-lo manualmente?\n"
     ]
    }
   ],
   "source": [
    "print \"Vamos fazer matematica com funcoes\"\n",
    "\n",
    "idade = somando(30, 5)\n",
    "altura = subitraindo(8, 4)\n",
    "peso = multiplicacao(90, 2)\n",
    "qi = dividindo(100, 2)\n",
    "\n",
    "print \"Idade: %d, Altura: %d, Peso: %d, QI: %d\" % (idade, altura, peso, qi)\n",
    "\n",
    "\n",
    "#Um quebra-cabeça para o crédito da extra, digite de qualquer jeito.\n",
    "print \"Aqui é um quebra-cabeca\"\n",
    "\n",
    "que = somando(idade, subitraindo(altura, multiplicacao(peso, dividindo(qi, 2))))\n",
    "\n",
    "print \"Isso torna-se:\", que, \"você pode fazê-lo manualmente?\""
   ]
  }
 ],
 "metadata": {
  "anaconda-cloud": {},
  "kernelspec": {
   "display_name": "Python 2",
   "language": "python",
   "name": "python2"
  },
  "language_info": {
   "codemirror_mode": {
    "name": "ipython",
    "version": 2
   },
   "file_extension": ".py",
   "mimetype": "text/x-python",
   "name": "python",
   "nbconvert_exporter": "python",
   "pygments_lexer": "ipython2",
   "version": "2.7.12"
  }
 },
 "nbformat": 4,
 "nbformat_minor": 1
}
