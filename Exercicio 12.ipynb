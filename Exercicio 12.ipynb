{
 "cells": [
  {
   "cell_type": "code",
   "execution_count": 1,
   "metadata": {
    "collapsed": false
   },
   "outputs": [
    {
     "name": "stdout",
     "output_type": "stream",
     "text": [
      "Quantos anos voce tem? 21\n",
      "Qual a sua altura? 21\n",
      "Quanto voce pesa? 21\n",
      "Entao, voce tem '21' anos, '21' de altura and '21' de peso.\n"
     ]
    }
   ],
   "source": [
    "idade = raw_input(\"Quantos anos voce tem? \")\n",
    "altura = raw_input(\"Qual a sua altura? \")\n",
    "peso = raw_input(\"Quanto voce pesa? \")\n",
    "\n",
    "print \"Entao, voce tem %r anos, %r de altura and %r de peso.\" % (\n",
    "    idade, altura, peso)"
   ]
  }
 ],
 "metadata": {
  "anaconda-cloud": {},
  "kernelspec": {
   "display_name": "Python 2",
   "language": "python",
   "name": "python2"
  },
  "language_info": {
   "codemirror_mode": {
    "name": "ipython",
    "version": 2
   },
   "file_extension": ".py",
   "mimetype": "text/x-python",
   "name": "python",
   "nbconvert_exporter": "python",
   "pygments_lexer": "ipython2",
   "version": "2.7.12"
  }
 },
 "nbformat": 4,
 "nbformat_minor": 1
}
