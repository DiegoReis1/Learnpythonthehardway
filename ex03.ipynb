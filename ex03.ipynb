{
 "cells": [
  {
   "cell_type": "code",
   "execution_count": 2,
   "metadata": {
    "collapsed": false
   },
   "outputs": [
    {
     "name": "stdout",
     "output_type": "stream",
     "text": [
      "Agora eu irei contar as minhas galinhas:\n",
      "Galinha 30\n",
      "Galo 97\n",
      "Agora eu irei contar os ovos:\n",
      "7\n",
      "É verdade que 3 + 2 < 5 - 7?\n",
      "False\n",
      "Quanto é 3 + 2? 5\n",
      "Quanto é 5 - 7? -2\n",
      "Oh, é por isso que é falso.\n",
      "Que tal um pouco mais.\n",
      "É maior? True\n",
      "É maior ou igual? True\n",
      "É menor ou igual? False\n"
     ]
    }
   ],
   "source": [
    "print \"Agora eu irei contar as minhas galinhas:\"\n",
    "\n",
    "print \"Galinha\", 25 + 30 / 6\n",
    "print \"Galo\", 100 - 25 * 3 % 4\n",
    "\n",
    "print \"Agora eu irei contar os ovos:\"\n",
    "\n",
    "print 3 + 2 + 1 - 5 + 4 % 2 - 1 / 4 + 6\n",
    "\n",
    "print \"É verdade que 3 + 2 < 5 - 7?\"\n",
    "\n",
    "print 3 + 2 < 5 - 7\n",
    "\n",
    "print \"Quanto é 3 + 2?\", 3 + 2\n",
    "print \"Quanto é 5 - 7?\", 5 - 7\n",
    "\n",
    "print \"Oh, é por isso que é falso.\"\n",
    "\n",
    "print \"Que tal um pouco mais.\"\n",
    "\n",
    "print \"É maior?\", 5 > -2\n",
    "print \"É maior ou igual?\", 5 >= -2\n",
    "print \"É menor ou igual?\", 5 <= -2"
   ]
  }
 ],
 "metadata": {
  "anaconda-cloud": {},
  "kernelspec": {
   "display_name": "Python 2",
   "language": "python",
   "name": "python2"
  },
  "language_info": {
   "codemirror_mode": {
    "name": "ipython",
    "version": 2
   },
   "file_extension": ".py",
   "mimetype": "text/x-python",
   "name": "python",
   "nbconvert_exporter": "python",
   "pygments_lexer": "ipython2",
   "version": "2.7.12"
  }
 },
 "nbformat": 4,
 "nbformat_minor": 1
}
