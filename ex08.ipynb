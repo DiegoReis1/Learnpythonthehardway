{
 "cells": [
  {
   "cell_type": "code",
   "execution_count": 4,
   "metadata": {
    "collapsed": false
   },
   "outputs": [
    {
     "name": "stdout",
     "output_type": "stream",
     "text": [
      "1 2 3 4\n",
      "'um' 'dois' 'tres' 'quatro'\n",
      "True False False True\n",
      "'%r %r %r %r' '%r %r %r %r' '%r %r %r %r' '%r %r %r %r'\n",
      "'Eu tinha essa coisa.' 'Isso pode escrever-se bem.' 'Mas n\\xc3\\xa3o cantar.' 'Ent\\xc3\\xa3o, eu disse boa noite.'\n"
     ]
    }
   ],
   "source": [
    "formatador = \"%r %r %r %r\"\n",
    "\n",
    "print formatador % (1, 2, 3, 4)\n",
    "print formatador % (\"um\", \"dois\", \"tres\", \"quatro\")\n",
    "print formatador % (True, False, False, True)\n",
    "print formatador % (formatador, formatador, formatador, formatador)\n",
    "print formatador % (\"Eu tinha essa coisa.\", \"Isso pode escrever-se bem.\", \"Mas não cantar.\", \"Então, eu disse boa noite.\")"
   ]
  }
 ],
 "metadata": {
  "anaconda-cloud": {},
  "kernelspec": {
   "display_name": "Python 2",
   "language": "python",
   "name": "python2"
  },
  "language_info": {
   "codemirror_mode": {
    "name": "ipython",
    "version": 2
   },
   "file_extension": ".py",
   "mimetype": "text/x-python",
   "name": "python",
   "nbconvert_exporter": "python",
   "pygments_lexer": "ipython2",
   "version": "2.7.12"
  }
 },
 "nbformat": 4,
 "nbformat_minor": 1
}
