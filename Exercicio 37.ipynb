{
 "cells": [
  {
   "cell_type": "code",
   "execution_count": null,
   "metadata": {
    "collapsed": false
   },
   "outputs": [],
   "source": [
    "# Codigo exemplo:\n",
    "# https://github.com/geekcomputers/Python/\n",
    "\n",
    "import SimpleHTTPServer\n",
    "import SocketServer\n",
    "\n",
    "PORT = 8000 # A porta em que se encontra\n",
    "\n",
    "Handler = SimpleHTTPServer.SimpleHTTPRequestHandler # faz uma chamada HTTP \n",
    "\n",
    "httpd = SocketServer.TCPServer((\"\", PORT), Handler) # cria um servidor TCP e processar os pedidos usando SocketServer com a porta\n",
    "\n",
    "print \"serving at port\", PORT # imprime a porta ja com o processamento no servidor\n",
    "httpd.serve_forever()"
   ]
  }
 ],
 "metadata": {
  "anaconda-cloud": {},
  "kernelspec": {
   "display_name": "Python [default]",
   "language": "python",
   "name": "python2"
  },
  "language_info": {
   "codemirror_mode": {
    "name": "ipython",
    "version": 2
   },
   "file_extension": ".py",
   "mimetype": "text/x-python",
   "name": "python",
   "nbconvert_exporter": "python",
   "pygments_lexer": "ipython2",
   "version": "2.7.12"
  }
 },
 "nbformat": 4,
 "nbformat_minor": 1
}
