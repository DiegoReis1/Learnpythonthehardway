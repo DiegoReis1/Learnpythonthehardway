{
 "cells": [
  {
   "cell_type": "code",
   "execution_count": null,
   "metadata": {
    "collapsed": false
   },
   "outputs": [],
   "source": [
    "# Codigo exemplo:\n",
    "# https://github.com/geekcomputers/Python/\n",
    "\n",
    "import SimpleHTTPServer\n",
    "import SocketServer\n",
    "\n",
    "PORT = 8000 # A porta em que se encontra\n",
    "\n",
    "Handler = SimpleHTTPServer.SimpleHTTPRequestHandler # classe que lida com requisições HTTP\n",
    "\n",
    "httpd = SocketServer.TCPServer((\"\", PORT), Handler) # cria um servidor TCP e processar os pedidos usando SocketServer com a porta\n",
    "\n",
    "print \"serving at port\", PORT # imprime a porta ja com o processamento no servidor\n",
    "httpd.serve_forever()"
   ]
  },
  {
   "cell_type": "code",
   "execution_count": null,
   "metadata": {
    "collapsed": true
   },
   "outputs": [],
   "source": [
    "import csv # import: importa modulos, csv: modulo que exporta e importa planilhas e bancos de dados, separando-os por caracteries, voce pode ler, escrever e tabular novos dados para o formato CSV \n",
    "import glob # glob: O módulo glob encontra todos os pathnames correspondentes a um padrão especificado, embora os resultados sejam retornados em ordem arbitrária.\n",
    "import os #oferece uma forma portátil de utilizar a funcionalidade dependente do sistema operacional.\n",
    "import pdb \n",
    "import pandas as pd # pandas é uma bibiblioteca para analise de dados\n",
    "\n",
    "\n",
    "def main(): # def: cria uma função com um nome, que pode levar parametros\n",
    "    directory = [] # uma variavel que indica um dicionario vazio\n",
    "    for dirs in os.walk(\".\"): # for x in .. y: cria um loop sobre uma coleção de coisas e passa algo depois, em que dirs imprime sub-diretórios de raiz e gera nome de arquivos em uma arvore de diretorios\n",
    "        directory.append(dirs) # append adiciona dirs no dicionario \"diretorio\"\n",
    "    folders = directory[0][1] # cria uma variavel chamada folders em que ele acha dentro do dicionario directory os arquivos da pasta atual e depois os subdiretorios\n",
    "    for ff in folders: # agora cria um loop que chamando ff mostra folders\n",
    "        if ff != \".git\": # agora se o subdiretorio tiver uma pasta diferente de \".git\"\n",
    "            allFiles = glob.glob(ff + \"/*.csv\") # ele cria um variavel em que ele encontra um subdiretorio/ algum_nome.csv\n",
    "            frame = pd.DataFrame() # cria um frame(tabela) vazia\n",
    "            dfs = [] # cria um dicionario vazio\n",
    "            for files in allFiles: # cria um loop em que joga todos os arquivos csv dentro de files\n",
    "                df = pd.read_csv(files, index_col=None, header=0) # cria uma variavel que le um csv, e os argumentos com o nome do arquivo, o index_col(coluna indice, no caso qual coluna irei usar) header(o cabeçalho que não começa com nada)\n",
    "                dfs.append(df) # intera os arquivos df dentro do dicionario dfs\n",
    "                frame = pd.concat(dfs) # cria uma variavel que concateia dfs\n",
    "            frame.to_csv(ff + \"/results.csv\") # exporta para csv\n",
    "main() # roda a função \"main\""
   ]
  }
 ],
 "metadata": {
  "anaconda-cloud": {},
  "kernelspec": {
   "display_name": "Python [default]",
   "language": "python",
   "name": "python2"
  },
  "language_info": {
   "codemirror_mode": {
    "name": "ipython",
    "version": 2
   },
   "file_extension": ".py",
   "mimetype": "text/x-python",
   "name": "python",
   "nbconvert_exporter": "python",
   "pygments_lexer": "ipython2",
   "version": "2.7.12"
  }
 },
 "nbformat": 4,
 "nbformat_minor": 1
}
