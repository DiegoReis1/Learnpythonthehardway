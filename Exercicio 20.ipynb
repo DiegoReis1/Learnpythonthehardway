{
 "cells": [
  {
   "cell_type": "code",
   "execution_count": 2,
   "metadata": {
    "collapsed": false
   },
   "outputs": [
    {
     "ename": "ValueError",
     "evalue": "too many values to unpack",
     "output_type": "error",
     "traceback": [
      "\u001b[0;31m---------------------------------------------------------------------------\u001b[0m",
      "\u001b[0;31mValueError\u001b[0m                                Traceback (most recent call last)",
      "\u001b[0;32m<ipython-input-2-67aa8de01634>\u001b[0m in \u001b[0;36m<module>\u001b[0;34m()\u001b[0m\n\u001b[1;32m      1\u001b[0m \u001b[0;32mfrom\u001b[0m \u001b[0msys\u001b[0m \u001b[0;32mimport\u001b[0m \u001b[0margv\u001b[0m\u001b[0;34m\u001b[0m\u001b[0m\n\u001b[1;32m      2\u001b[0m \u001b[0;34m\u001b[0m\u001b[0m\n\u001b[0;32m----> 3\u001b[0;31m \u001b[0mscript\u001b[0m\u001b[0;34m,\u001b[0m \u001b[0mArquivo_de_entrada\u001b[0m \u001b[0;34m=\u001b[0m \u001b[0margv\u001b[0m\u001b[0;34m\u001b[0m\u001b[0m\n\u001b[0m\u001b[1;32m      4\u001b[0m \u001b[0;34m\u001b[0m\u001b[0m\n\u001b[1;32m      5\u001b[0m \u001b[0;32mdef\u001b[0m \u001b[0mprint_tudo\u001b[0m\u001b[0;34m(\u001b[0m\u001b[0mf\u001b[0m\u001b[0;34m)\u001b[0m\u001b[0;34m:\u001b[0m\u001b[0;34m\u001b[0m\u001b[0m\n",
      "\u001b[0;31mValueError\u001b[0m: too many values to unpack"
     ]
    }
   ],
   "source": [
    "from sys import argv\n",
    "\n",
    "script, Arquivo_de_entrada = argv\n",
    "\n",
    "def print_tudo(f):\n",
    "    print f.read()\n",
    "\n",
    "def rebobinar(f):\n",
    "    f.seek(0)\n",
    "\n",
    "def print_uma_linha(contagem_linha, f):\n",
    "    print contagem_linha, f.readline()\n",
    "\n",
    "arquivo_atual = open(Arquivo_de_entrada)\n",
    "\n",
    "print \"Primeiro vamos imprimir o arquivo inteiro:\\n\"\n",
    "\n",
    "print_tudo(arquivo_atual)\n",
    "\n",
    "print \"Agora vamos retroceder, como uma especie de fita.\"\n",
    "\n",
    "rebobinar(arquivo_atual)\n",
    "\n",
    "print \"Vamos imprimir três linhas:\"\n",
    "\n",
    "linha_atual = 1\n",
    "print_uma_linha(linha_atual, arquivo_atual)\n",
    "\n",
    "linha_atual = linha_atual + 1\n",
    "print_uma_linha(linha_atual, arquivo_atual)\n",
    "\n",
    "linha_atual = linha_atual + 1\n",
    "print_uma_linha(linha_atual, arquivo_atual)\n",
    "\n",
    "#python ex20.py test.txt"
   ]
  }
 ],
 "metadata": {
  "kernelspec": {
   "display_name": "Python 2",
   "language": "python",
   "name": "python2"
  },
  "language_info": {
   "codemirror_mode": {
    "name": "ipython",
    "version": 2
   },
   "file_extension": ".py",
   "mimetype": "text/x-python",
   "name": "python",
   "nbconvert_exporter": "python",
   "pygments_lexer": "ipython2",
   "version": "2.7.12"
  }
 },
 "nbformat": 4,
 "nbformat_minor": 1
}
