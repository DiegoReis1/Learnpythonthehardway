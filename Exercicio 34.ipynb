{
 "cells": [
  {
   "cell_type": "code",
   "execution_count": 9,
   "metadata": {
    "collapsed": false
   },
   "outputs": [
    {
     "name": "stdout",
     "output_type": "stream",
     "text": [
      "python\n",
      "pavao\n",
      "urso\n",
      "canguru\n",
      "baleia\n",
      "pavao\n",
      "ornitorrinco\n",
      "canguru\n"
     ]
    }
   ],
   "source": [
    "animais  =  [ 'urso' ,  'python' ,  'pavao' ,  'canguru' ,  'baleia' ,  'ornitorrinco' ]\n",
    "#1\n",
    "python = animais[1]\n",
    "print python\n",
    "#2\n",
    "pavao = animais[2]\n",
    "print pavao\n",
    "#3\n",
    "urso = animais[0]\n",
    "print urso\n",
    "#4\n",
    "canguru = animais[3]\n",
    "print canguru\n",
    "#5\n",
    "baleia = animais[4]\n",
    "print baleia\n",
    "#6\n",
    "pavao = animais[2]\n",
    "print pavao\n",
    "#7\n",
    "ornitorrinco = animais[5]\n",
    "print ornitorrinco\n",
    "#8\n",
    "canguru = animais[3]\n",
    "print canguru"
   ]
  }
 ],
 "metadata": {
  "anaconda-cloud": {},
  "kernelspec": {
   "display_name": "Python 2",
   "language": "python",
   "name": "python2"
  },
  "language_info": {
   "codemirror_mode": {
    "name": "ipython",
    "version": 2
   },
   "file_extension": ".py",
   "mimetype": "text/x-python",
   "name": "python",
   "nbconvert_exporter": "python",
   "pygments_lexer": "ipython2",
   "version": "2.7.12"
  }
 },
 "nbformat": 4,
 "nbformat_minor": 1
}
