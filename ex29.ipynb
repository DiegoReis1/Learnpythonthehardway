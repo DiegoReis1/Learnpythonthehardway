{
 "cells": [
  {
   "cell_type": "code",
   "execution_count": 1,
   "metadata": {
    "collapsed": false
   },
   "outputs": [
    {
     "name": "stdout",
     "output_type": "stream",
     "text": [
      "Sao muitos gatos! O mundo esta dominado!\n",
      "O mundo está seco!\n",
      "As pessoas são maiores ou igual a cães.\n",
      "As pessoas estão a menos ou iguais a cães.\n",
      "Pessoas sao cachorros\n"
     ]
    }
   ],
   "source": [
    "pessoas = 20\n",
    "gatos = 30\n",
    "cachorros = 15\n",
    "\n",
    "\n",
    "if pessoas < gatos:\n",
    "    print \"Sao muitos gatos! O mundo esta dominado!\"\n",
    "\n",
    "if pessoas > gatos:\n",
    "    print \"Sem muitos gatos! O mundo esta salvo\"\n",
    "\n",
    "if pessoas < cachorros:\n",
    "    print \"O mundo está babando sobre!\"\n",
    "\n",
    "if pessoas > cachorros:\n",
    "    print \"O mundo está seco!\"\n",
    "\n",
    "\n",
    "cachorros += 5\n",
    "\n",
    "if pessoas >= cachorros:\n",
    "    print \"As pessoas são maiores ou igual a cães.\"\n",
    "\n",
    "if pessoas <= cachorros:\n",
    "    print \"As pessoas estão a menos ou iguais a cães.\"\n",
    "\n",
    "\n",
    "if pessoas == cachorros:\n",
    "    print \"Pessoas sao cachorros\""
   ]
  }
 ],
 "metadata": {
  "kernelspec": {
   "display_name": "Python 2",
   "language": "python",
   "name": "python2"
  },
  "language_info": {
   "codemirror_mode": {
    "name": "ipython",
    "version": 2
   },
   "file_extension": ".py",
   "mimetype": "text/x-python",
   "name": "python",
   "nbconvert_exporter": "python",
   "pygments_lexer": "ipython2",
   "version": "2.7.12"
  }
 },
 "nbformat": 4,
 "nbformat_minor": 1
}
