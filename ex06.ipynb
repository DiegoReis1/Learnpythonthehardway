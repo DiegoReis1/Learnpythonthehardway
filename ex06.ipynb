{
 "cells": [
  {
   "cell_type": "code",
   "execution_count": 10,
   "metadata": {
    "collapsed": false
   },
   "outputs": [
    {
     "name": "stdout",
     "output_type": "stream",
     "text": [
      "Existem 10 tipos de pessoas.\n",
      "Aqueles que conhecem binário e aqueles que não.\n",
      "Eu disse: 'Existem 10 tipos de pessoas.'.\n",
      "Eu também disse: 'Aqueles que conhecem binário e aqueles que não.'.\n",
      "Isso não é piada tão engraçado ?! False\n",
      "Este é o lado esquerdo do ...uma string com um lado direito.\n"
     ]
    }
   ],
   "source": [
    "x = \"Existem %d tipos de pessoas.\" % 10\n",
    "binario = \"binário\"\n",
    "nao = \"não\"\n",
    "y = \"Aqueles que conhecem %s e aqueles que %s.\" % (binario, nao)\n",
    "\n",
    "print x\n",
    "print y\n",
    "\n",
    "print \"Eu disse: %r.\" % x\n",
    "print \"Eu também disse: '%s'.\" % y\n",
    "\n",
    "hilario = False\n",
    "avaliador_de_piada = \"Isso não é piada tão engraçado ?! %r\"\n",
    "\n",
    "print avaliador_de_piada % hilario\n",
    "\n",
    "w = \"Este é o lado esquerdo do ...\"\n",
    "e = \"uma string com um lado direito.\"\n",
    "\n",
    "print w + e"
   ]
  }
 ],
 "metadata": {
  "anaconda-cloud": {},
  "kernelspec": {
   "display_name": "Python 2",
   "language": "python",
   "name": "python2"
  },
  "language_info": {
   "codemirror_mode": {
    "name": "ipython",
    "version": 2
   },
   "file_extension": ".py",
   "mimetype": "text/x-python",
   "name": "python",
   "nbconvert_exporter": "python",
   "pygments_lexer": "ipython2",
   "version": "2.7.12"
  }
 },
 "nbformat": 4,
 "nbformat_minor": 1
}
