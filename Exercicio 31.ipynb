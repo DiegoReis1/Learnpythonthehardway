{
 "cells": [
  {
   "cell_type": "code",
   "execution_count": 2,
   "metadata": {
    "collapsed": false
   },
   "outputs": [
    {
     "name": "stdout",
     "output_type": "stream",
     "text": [
      "Voce entra em um quarto escuro com duas portas. Voce entraria na porta #1 ou na porta #2?\n",
      "> 6\n",
      "Você tropeça ao redor e cai em uma faca e morrer. Bom trabalho!\n"
     ]
    }
   ],
   "source": [
    "print \"Voce entra em um quarto escuro com duas portas. Voce entraria na porta #1 ou na porta #2?\"\n",
    "\n",
    "porta = raw_input(\"> \")\n",
    "\n",
    "if porta == \"1\":\n",
    "    print \"Há um urso gigante aqui comendo um cheese cake. O que você faz?\"\n",
    "    print \"1. Pegue o bolo\"\n",
    "    print \"2. Grita pro urso\"\n",
    "    \n",
    "    urso = raw_input(\">\")\n",
    "    \n",
    "    if urso == \"1\":\n",
    "        print \"O urso comeu o seu rosto. Bom trabalho!\"\n",
    "    elif urso == \"2\":\n",
    "        print \"O urso comeu as suas pernas. Bom trabalho!\"\n",
    "    else:\n",
    "        print \"Bom, fazendo %s é provavelmente melhor. O urso corre\" % bear\n",
    "    \n",
    "elif porta == \"2\":\n",
    "    print \"Você olha para o abismo sem fim na retina de Cthulhu.\"\n",
    "    print \"1. Mirtilos.\"\n",
    "    print \"2. \"\n",
    "    print \"3. Compreender revólveres gritando melodias.\"\n",
    "    \n",
    "    isanidade = raw_input(\"> \")\n",
    "    \n",
    "    if isanidade == \"1\" or isanidade == \"2\":\n",
    "        print \"Seu corpo sobrevive alimentado por uma mente de gelatina. Bom trabalho!\"\n",
    "    else:\n",
    "        print \"A insanidade apodrece seus olhos em uma piscina de lama. Bom trabalho!\"\n",
    "\n",
    "else:\n",
    "    print \"Você tropeça ao redor e cai em uma faca e morrer. Bom trabalho!\"\n",
    "        "
   ]
  }
 ],
 "metadata": {
  "anaconda-cloud": {},
  "kernelspec": {
   "display_name": "Python 2",
   "language": "python",
   "name": "python2"
  },
  "language_info": {
   "codemirror_mode": {
    "name": "ipython",
    "version": 2
   },
   "file_extension": ".py",
   "mimetype": "text/x-python",
   "name": "python",
   "nbconvert_exporter": "python",
   "pygments_lexer": "ipython2",
   "version": "2.7.12"
  }
 },
 "nbformat": 4,
 "nbformat_minor": 1
}
