{
 "cells": [
  {
   "cell_type": "code",
   "execution_count": 2,
   "metadata": {
    "collapsed": false
   },
   "outputs": [
    {
     "name": "stdout",
     "output_type": "stream",
     "text": [
      "Olá mundo!\n",
      "Olá de novo\n",
      "Eu gosto de digitar isso.\n",
      "isso é divertido.\n",
      "Yay! Imprimindo.\n",
      "Eu prefiro que você 'não'.\n",
      "Eu \"disse\" para não tocar nisso.\n"
     ]
    }
   ],
   "source": [
    "print \"Olá mundo!\"\n",
    "print \"Olá de novo\"\n",
    "print \"Eu gosto de digitar isso.\"\n",
    "print \"isso é divertido.\"\n",
    "print 'Yay! Imprimindo.'\n",
    "print \"Eu prefiro que você 'não'.\"\n",
    "print 'Eu \"disse\" para não tocar nisso.'"
   ]
  }
 ],
 "metadata": {
  "anaconda-cloud": {},
  "kernelspec": {
   "display_name": "Python 2",
   "language": "python",
   "name": "python2"
  },
  "language_info": {
   "codemirror_mode": {
    "name": "ipython",
    "version": 2
   },
   "file_extension": ".py",
   "mimetype": "text/x-python",
   "name": "python",
   "nbconvert_exporter": "python",
   "pygments_lexer": "ipython2",
   "version": "2.7.12"
  }
 },
 "nbformat": 4,
 "nbformat_minor": 1
}
