{
 "cells": [
  {
   "cell_type": "code",
   "execution_count": null,
   "metadata": {
    "collapsed": true
   },
   "outputs": [],
   "source": [
    "from sys import argv\n",
    "from os.path import exists\n",
    "\n",
    "script, arquivo_inicial, outro_arquivo = argv\n",
    "\n",
    "print \"Copiando de %s para %s\" % (arquivo_inicial, outro_arquivo)\n",
    "\n",
    "# poderíamos fazer estes dois em uma linha, como?\n",
    "arquivo = open(arquivo_inicial)\n",
    "indata = arquivo.read()\n",
    "\n",
    "print \"O arquivo colocado e %d bytes maior\" % len(indata)\n",
    "\n",
    "print \"O arquivo de saida existe? %r\" % exists(outro_arquivo)\n",
    "print \"Pronto, RETURN para continuar, CTRL-C para abortar.\"\n",
    "raw_input()\n",
    "\n",
    "arquivo_de_saida = open(outro_arquivo, 'w')\n",
    "arquivo_de_saida.write(indata)\n",
    "\n",
    "print \"Tudo bem, tudo feito.\"\n",
    "\n",
    "arquivo_de_saida.close()\n",
    "arquivo.close()\n",
    "\n",
    "#Use o terminal para rodar\n",
    "#Crie um arquivo txt\n",
    "#python nome_do_arquivo.py nome_do_arquivo.txt\n",
    "#ex:python tes1.py test.txt"
   ]
  }
 ],
 "metadata": {
  "kernelspec": {
   "display_name": "Python 2",
   "language": "python",
   "name": "python2"
  },
  "language_info": {
   "codemirror_mode": {
    "name": "ipython",
    "version": 2
   },
   "file_extension": ".py",
   "mimetype": "text/x-python",
   "name": "python",
   "nbconvert_exporter": "python",
   "pygments_lexer": "ipython2",
   "version": "2.7.12"
  }
 },
 "nbformat": 4,
 "nbformat_minor": 1
}
