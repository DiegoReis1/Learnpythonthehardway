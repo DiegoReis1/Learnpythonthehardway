{
 "cells": [
  {
   "cell_type": "code",
   "execution_count": 2,
   "metadata": {
    "collapsed": false
   },
   "outputs": [
    {
     "name": "stdout",
     "output_type": "stream",
     "text": [
      "Aguarde, não há 10 coisas nessa lista. Vamos corrigir isso.\n",
      "Adicionando:  Garoto\n",
      "Existem 7 itens agora.\n",
      "Adicionando:  Garota\n",
      "Existem 8 itens agora.\n",
      "Adicionando:  Banana\n",
      "Existem 9 itens agora.\n",
      "Adicionando:  Milho\n",
      "Existem 10 itens agora.\n",
      "Aqui vamos nós:  ['Ma\\xc3\\xa7\\xc3\\xa3s', 'laranjas', 'corvos', 'telefone', 'luz', 'a\\xc3\\xa7\\xc3\\xbacar', 'Garoto', 'Garota', 'Banana', 'Milho']\n",
      "Vamos fazer algumas coisas com coisas.\n",
      "laranjas\n",
      "Milho\n",
      "Milho\n",
      "Maçãs laranjas corvos telefone luz açúcar Garoto Garota Banana\n",
      "telefone#luz\n"
     ]
    }
   ],
   "source": [
    "dez_coisas = \"Maçãs laranjas corvos telefone luz açúcar\"\n",
    "\n",
    "print \"Aguarde, não há 10 coisas nessa lista. Vamos corrigir isso.\"\n",
    "\n",
    "coisas = dez_coisas.split(' ')\n",
    "mais_coisas = [\"Dia\", \"Noite\", \"Musica\", \"Frisbee\", \"Milho\", \"Banana\", \"Garota\", \"Garoto\"]\n",
    "\n",
    "while len(coisas) != 10:\n",
    "    proximo = mais_coisas.pop()\n",
    "    print \"Adicionando: \", proximo\n",
    "    coisas.append(proximo)\n",
    "    print \"Existem %d itens agora.\" % len(coisas)\n",
    "\n",
    "print \"Aqui vamos nós: \", coisas\n",
    "\n",
    "print \"Vamos fazer algumas coisas com coisas.\"\n",
    "\n",
    "print coisas[1]\n",
    "print coisas[-1] # whoa! fancy\n",
    "print coisas.pop()\n",
    "print ' '.join(coisas) # what? cool!\n",
    "print '#'.join(coisas[3:5]) # super stellar!"
   ]
  }
 ],
 "metadata": {
  "anaconda-cloud": {},
  "kernelspec": {
   "display_name": "Python [default]",
   "language": "python",
   "name": "python2"
  },
  "language_info": {
   "codemirror_mode": {
    "name": "ipython",
    "version": 2
   },
   "file_extension": ".py",
   "mimetype": "text/x-python",
   "name": "python",
   "nbconvert_exporter": "python",
   "pygments_lexer": "ipython2",
   "version": "2.7.12"
  }
 },
 "nbformat": 4,
 "nbformat_minor": 1
}
