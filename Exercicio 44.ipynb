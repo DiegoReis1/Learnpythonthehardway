{
 "cells": [
  {
   "cell_type": "code",
   "execution_count": null,
   "metadata": {
    "collapsed": true
   },
   "outputs": [],
   "source": [
    "class Pai(object):\n",
    "\n",
    "    def implicito(self):\n",
    "        print \"Pai implicito()\"\n",
    "\n",
    "class Crianca(Pai):\n",
    "    pass\n",
    "\n",
    "pai = Pai()\n",
    "filho = Crianca()\n",
    "\n",
    "pai.implicito()\n",
    "filho.implicito()"
   ]
  },
  {
   "cell_type": "code",
   "execution_count": null,
   "metadata": {
    "collapsed": true
   },
   "outputs": [],
   "source": [
    "class Pai(object):\n",
    "\n",
    "    def override(self):\n",
    "        print \"PAI substituido()\"\n",
    "\n",
    "class Crianca(Pai):\n",
    "\n",
    "    def override(self):\n",
    "        print \"Crianca substituida()\"\n",
    "\n",
    "pai = Pai()\n",
    "filho = Crianca()\n",
    "\n",
    "pai.override()\n",
    "filho.override()"
   ]
  },
  {
   "cell_type": "code",
   "execution_count": null,
   "metadata": {
    "collapsed": true
   },
   "outputs": [],
   "source": [
    "class Pai(object):\n",
    "\n",
    "    def alterado(self):\n",
    "        print \"PAI alteredo()\"\n",
    "\n",
    "class Crianca(Pai):\n",
    "\n",
    "    def alterado(self):\n",
    "        print \"CRIANCA, ANTES DO PAI alterado()\"\n",
    "        super(Crianca, self).alterado()\n",
    "        print \"CRIANCA, ANTES DO PAI alterado()\"\n",
    "\n",
    "pai = Pai()\n",
    "filho = Crianca()\n",
    "\n",
    "pai.alterado()\n",
    "filho.alterado()"
   ]
  },
  {
   "cell_type": "code",
   "execution_count": null,
   "metadata": {
    "collapsed": true
   },
   "outputs": [],
   "source": [
    "class Pai(object):\n",
    "\n",
    "    def override(self):\n",
    "        print \"PAi substituido()\"\n",
    "\n",
    "    def implicito(self):\n",
    "        print \"Pai implicito()\"\n",
    "\n",
    "    def alterado(self):\n",
    "        print \"PAI alterado()\"\n",
    "\n",
    "class Crianca(Pai):\n",
    "\n",
    "    def override(self):\n",
    "        print \"Crianca substituida()\"\n",
    "\n",
    "    def alterado(self):\n",
    "        print \"CRIANCA, ANTES DO PAI alterado()\"\n",
    "        super(Crianca, self).alterado()\n",
    "        print \"CRIANCA, ANTES DO PAI alterado()\"\n",
    "\n",
    "pai = Pai()\n",
    "filho = Crianca()\n",
    "\n",
    "pai.implicito()\n",
    "filho.implicito()\n",
    "\n",
    "pai.override()\n",
    "filho.override()\n",
    "\n",
    "pai.alterado()\n",
    "filho.alterado()"
   ]
  },
  {
   "cell_type": "code",
   "execution_count": null,
   "metadata": {
    "collapsed": true
   },
   "outputs": [],
   "source": [
    "class Outro(object):\n",
    "\n",
    "    def override(self):\n",
    "        print \"OUTRO substiuido()\"\n",
    "\n",
    "    def implicito(self):\n",
    "        print \"OUTRO implicito()\"\n",
    "\n",
    "    def alterado(self):\n",
    "        print \"OUTRO alterado()\"\n",
    "\n",
    "class Crianca(object):\n",
    "\n",
    "    def __init__(self):\n",
    "        self.outro = Outro()\n",
    "\n",
    "    def implicito(self):\n",
    "        self.outro.implicito()\n",
    "\n",
    "    def override(self):\n",
    "        print \"CRIANCA substiuido()\"\n",
    "\n",
    "    def alterado(self):\n",
    "        print \"CRIANCA, ANTES DO OUTRO alterado()\"\n",
    "        self.outro.alterado()\n",
    "        print \"CRIANCA, ANTES DO OUTRO alterado()\"\n",
    "\n",
    "filho = Crianca()\n",
    "\n",
    "filho.implicito()\n",
    "filho.override()\n",
    "filho.alterado()"
   ]
  }
 ],
 "metadata": {
  "anaconda-cloud": {},
  "kernelspec": {
   "display_name": "Python [default]",
   "language": "python",
   "name": "python2"
  },
  "language_info": {
   "codemirror_mode": {
    "name": "ipython",
    "version": 2
   },
   "file_extension": ".py",
   "mimetype": "text/x-python",
   "name": "python",
   "nbconvert_exporter": "python",
   "pygments_lexer": "ipython2",
   "version": "2.7.12"
  }
 },
 "nbformat": 4,
 "nbformat_minor": 1
}
