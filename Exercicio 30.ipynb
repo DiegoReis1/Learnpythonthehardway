{
 "cells": [
  {
   "cell_type": "code",
   "execution_count": 1,
   "metadata": {
    "collapsed": false
   },
   "outputs": [
    {
     "name": "stdout",
     "output_type": "stream",
     "text": [
      "Não devemos tomar os carros.\n",
      "Talvez pudéssemos tirar os caminhões .\n",
      "Tudo bem, vamos apenas tomar os caminhões.\n"
     ]
    }
   ],
   "source": [
    "pessoas = 330\n",
    "carros = 50\n",
    "caminhoes = 25\n",
    "\n",
    "if carros > pessoas: - # se carros for maior que pessoas\n",
    "    print \"Devemos levar os carros.\" # imprime isso\n",
    "elif carros < pessoas: # se nao carros for menor que pessoas\n",
    "    print \"Não devemos tomar os carros.\" # imprime isso\n",
    "elif carros > pessoas < caminhoes # se nao se carros for maior que pessoas e menor que caminhoes \n",
    "    print \"Ué\" #imprima isso\n",
    "else:\n",
    "    print \"Nós não podemos decidir.\"\n",
    "\n",
    "if caminhoes > carros:\n",
    "    print \"Isso sao muitos caminhões.\"\n",
    "elif caminhoes < carros:\n",
    "    print \"Talvez pudéssemos tirar os caminhões .\"\n",
    "else:\n",
    "    print \"Nós ainda não podemos decidir.\"\n",
    "\n",
    "if pessoas > caminhoes:\n",
    "    print \"Tudo bem, vamos apenas tomar os caminhões.\"\n",
    "else:\n",
    "    print \"Tudo bem, vamos ficar em casa então.\"\n"
   ]
  },
  {
   "cell_type": "code",
   "execution_count": null,
   "metadata": {
    "collapsed": true
   },
   "outputs": [],
   "source": [
    "# Exercicios de Estudo\n",
    "\n",
    "# 1 - elif é um else com if, e else é \"Se não...\"\n",
    "# 2 - Mudado para - 330, 50 e 25\n",
    "# 3 - elif carros < pessoas:\n",
    "#     print \"Não devemos tomar os carros.\"\n",
    "# 4 - OK\n"
   ]
  }
 ],
 "metadata": {
  "anaconda-cloud": {},
  "kernelspec": {
   "display_name": "Python 2",
   "language": "python",
   "name": "python2"
  },
  "language_info": {
   "codemirror_mode": {
    "name": "ipython",
    "version": 2
   },
   "file_extension": ".py",
   "mimetype": "text/x-python",
   "name": "python",
   "nbconvert_exporter": "python",
   "pygments_lexer": "ipython2",
   "version": "2.7.12"
  }
 },
 "nbformat": 4,
 "nbformat_minor": 1
}
